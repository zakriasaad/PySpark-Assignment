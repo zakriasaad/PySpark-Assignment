{
 "cells": [
  {
   "attachments": {},
   "cell_type": "markdown",
   "id": "e407ef37",
   "metadata": {},
   "source": [
    "# DEVELHOPE PYSPARK ASSIGNMENT\n",
    "## EU SUPERSTORE DATASET ANALYSIS IN PYSPARK"
   ]
  },
  {
   "cell_type": "code",
   "execution_count": 1,
   "id": "9d867484",
   "metadata": {},
   "outputs": [],
   "source": [
    "import pyspark\n",
    "from pyspark.sql import SparkSession\n",
    "from pyspark.sql import functions as f\n",
    "from pyspark.sql.functions import col"
   ]
  },
  {
   "cell_type": "code",
   "execution_count": 2,
   "id": "18cf8dbd",
   "metadata": {},
   "outputs": [],
   "source": [
    "spark = SparkSession.builder.master(\"local[*]\").appName(\"Datamanipulation\").getOrCreate()"
   ]
  },
  {
   "cell_type": "code",
   "execution_count": 3,
   "id": "9e64796c",
   "metadata": {},
   "outputs": [
    {
     "data": {
      "text/html": [
       "\n",
       "            <div>\n",
       "                <p><b>SparkSession - in-memory</b></p>\n",
       "                \n",
       "        <div>\n",
       "            <p><b>SparkContext</b></p>\n",
       "\n",
       "            <p><a href=\"http://DESKTOP-UM4O44F.mshome.net:4040\">Spark UI</a></p>\n",
       "\n",
       "            <dl>\n",
       "              <dt>Version</dt>\n",
       "                <dd><code>v3.3.1</code></dd>\n",
       "              <dt>Master</dt>\n",
       "                <dd><code>local[*]</code></dd>\n",
       "              <dt>AppName</dt>\n",
       "                <dd><code>Datamanipulation</code></dd>\n",
       "            </dl>\n",
       "        </div>\n",
       "        \n",
       "            </div>\n",
       "        "
      ],
      "text/plain": [
       "<pyspark.sql.session.SparkSession at 0x1c82f0d2100>"
      ]
     },
     "execution_count": 3,
     "metadata": {},
     "output_type": "execute_result"
    }
   ],
   "source": [
    "spark"
   ]
  },
  {
   "cell_type": "code",
   "execution_count": 4,
   "id": "1cb29770",
   "metadata": {},
   "outputs": [],
   "source": [
    "# read our data - lives in a csv file\n",
    "\n",
    "df = spark.read.option(\"header\",\"true\").csv(\"C:/Users/zakria/Desktop/Data_PySpark_BigData_Exercises/Sample - EU Superstore.csv\")"
   ]
  },
  {
   "cell_type": "code",
   "execution_count": 5,
   "id": "40768be8",
   "metadata": {},
   "outputs": [
    {
     "name": "stdout",
     "output_type": "stream",
     "text": [
      "root\n",
      " |-- Row ID: string (nullable = true)\n",
      " |-- Order ID: string (nullable = true)\n",
      " |-- Order Date: string (nullable = true)\n",
      " |-- Ship Date: string (nullable = true)\n",
      " |-- Ship Mode: string (nullable = true)\n",
      " |-- Customer ID: string (nullable = true)\n",
      " |-- Customer Name: string (nullable = true)\n",
      " |-- Segment: string (nullable = true)\n",
      " |-- City: string (nullable = true)\n",
      " |-- State: string (nullable = true)\n",
      " |-- Country: string (nullable = true)\n",
      " |-- Region: string (nullable = true)\n",
      " |-- Product ID: string (nullable = true)\n",
      " |-- Category: string (nullable = true)\n",
      " |-- Sub-Category: string (nullable = true)\n",
      " |-- Product Name: string (nullable = true)\n",
      " |-- Sales: string (nullable = true)\n",
      " |-- Quantity: string (nullable = true)\n",
      " |-- Discount: string (nullable = true)\n",
      " |-- Profit: string (nullable = true)\n",
      "\n"
     ]
    }
   ],
   "source": [
    "df.printSchema()"
   ]
  },
  {
   "cell_type": "code",
   "execution_count": 6,
   "id": "6c800030",
   "metadata": {},
   "outputs": [
    {
     "data": {
      "text/plain": [
       "2827"
      ]
     },
     "execution_count": 6,
     "metadata": {},
     "output_type": "execute_result"
    }
   ],
   "source": [
    "# how many rows of the EU Superstore dataset have the country being France\n",
    "df.filter(\"Country = 'France'\").count()"
   ]
  },
  {
   "cell_type": "code",
   "execution_count": 7,
   "id": "648e5f8a",
   "metadata": {},
   "outputs": [
    {
     "data": {
      "text/plain": [
       "2277"
      ]
     },
     "execution_count": 7,
     "metadata": {},
     "output_type": "execute_result"
    }
   ],
   "source": [
    "# of those, how many are profitable?\n",
    "df.filter((df.Country == 'France') & (df.Profit > 0)).count()\n"
   ]
  },
  {
   "cell_type": "code",
   "execution_count": 8,
   "id": "ca611b93",
   "metadata": {},
   "outputs": [
    {
     "name": "stdout",
     "output_type": "stream",
     "text": [
      "+--------+\n",
      "|Discount|\n",
      "+--------+\n",
      "|     0.3|\n",
      "|     0.7|\n",
      "|       0|\n",
      "|     0.2|\n",
      "|    0.15|\n",
      "|    0.35|\n",
      "|     0.8|\n",
      "|    0.45|\n",
      "|     0.5|\n",
      "|    0.65|\n",
      "|     0.6|\n",
      "|     0.1|\n",
      "|    0.85|\n",
      "|     0.4|\n",
      "+--------+\n",
      "\n"
     ]
    },
    {
     "data": {
      "text/plain": [
       "14"
      ]
     },
     "execution_count": 8,
     "metadata": {},
     "output_type": "execute_result"
    }
   ],
   "source": [
    "# how any different discount brackets exist? what are they?\n",
    "df.select('Discount').distinct().show() # shwoing discount brackets\n",
    "df.select('Discount').distinct().count() # Counting all distinct discount brackets"
   ]
  },
  {
   "cell_type": "code",
   "execution_count": 9,
   "id": "b2e1f9f0",
   "metadata": {},
   "outputs": [
    {
     "name": "stdout",
     "output_type": "stream",
     "text": [
      "+--------+-------------------+\n",
      "|Discount|        sum(Profit)|\n",
      "+--------+-------------------+\n",
      "|       0| 383806.53000000026|\n",
      "|     0.1|  126884.0309999999|\n",
      "|    0.15| 24677.563499999975|\n",
      "|     0.2| 2189.5499999999984|\n",
      "|     0.8|           -460.284|\n",
      "|     0.3| -758.4209999999999|\n",
      "|    0.45|         -1103.1915|\n",
      "|    0.85|          -3068.658|\n",
      "|     0.7|          -5496.765|\n",
      "|    0.65| -6221.965499999999|\n",
      "|    0.35|          -9122.649|\n",
      "|     0.6|-20517.456000000002|\n",
      "|     0.4|-21346.427999999996|\n",
      "|     0.5|         -96632.115|\n",
      "+--------+-------------------+\n",
      "\n"
     ]
    }
   ],
   "source": [
    "# let's see the totl profit by discount bracket, make sure they are ordered by \n",
    "df.groupBy('Discount').agg({'Profit':'sum'}).orderBy(\"sum(Profit)\",ascending=False).show()"
   ]
  },
  {
   "cell_type": "code",
   "execution_count": 10,
   "id": "d1d76050",
   "metadata": {},
   "outputs": [
    {
     "name": "stdout",
     "output_type": "stream",
     "text": [
      "+--------+------------------+\n",
      "|Discount|       sum(Profit)|\n",
      "+--------+------------------+\n",
      "|       0|383806.53000000026|\n",
      "|     0.1| 126884.0309999999|\n",
      "|    0.15|24677.563499999975|\n",
      "|     0.2|2189.5499999999984|\n",
      "+--------+------------------+\n",
      "\n"
     ]
    }
   ],
   "source": [
    "# what is the value after which we should stop offering discount?\n",
    "profit_discount=df.groupBy('Discount').agg({'Profit':'sum'}).orderBy(\"sum(Profit)\",ascending=False)\n",
    "profit_discount.filter(f.col(\"sum(Profit)\").cast(\"float\") >= 0).show()"
   ]
  },
  {
   "cell_type": "code",
   "execution_count": 11,
   "id": "aae94ee1",
   "metadata": {},
   "outputs": [
    {
     "name": "stdout",
     "output_type": "stream",
     "text": [
      "+-----------------+------------+\n",
      "|    Customer Name|Total_Profit|\n",
      "+-----------------+------------+\n",
      "|     Susan Pistek|     4974.51|\n",
      "|    Patrick Jones|      3986.0|\n",
      "|Patrick O'Donnell|      3778.2|\n",
      "|    Ellis Ballard|     3459.66|\n",
      "|  Mike Gockenbach|     3144.44|\n",
      "+-----------------+------------+\n",
      "only showing top 5 rows\n",
      "\n"
     ]
    }
   ],
   "source": [
    "# who are the top 5 most profitable customers\n",
    "top_cus=df.groupBy('Customer Name').agg({\"Profit\":'sum'}).orderBy(\"sum(Profit)\",ascending=False).\\\n",
    "    withColumnRenamed(\"sum(Profit)\",\"Total_Profit\").withColumn(\"Total_Profit\",f.round(\"Total_Profit\",2))\n",
    "top_cus.show(5)\n"
   ]
  },
  {
   "cell_type": "code",
   "execution_count": 12,
   "id": "e8d4fb5c",
   "metadata": {},
   "outputs": [
    {
     "data": {
      "text/plain": [
       "['Susan Pistek',\n",
       " 'Patrick Jones',\n",
       " \"Patrick O'Donnell\",\n",
       " 'Ellis Ballard',\n",
       " 'Mike Gockenbach']"
      ]
     },
     "execution_count": 12,
     "metadata": {},
     "output_type": "execute_result"
    }
   ],
   "source": [
    "top_cus_collected=top_cus.collect()[0:5]\n",
    "top_5_customers=[row[0] for row in top_cus_collected]\n",
    "top_5_customers"
   ]
  },
  {
   "cell_type": "code",
   "execution_count": 13,
   "id": "277c465a",
   "metadata": {},
   "outputs": [
    {
     "data": {
      "text/plain": [
       "76"
      ]
     },
     "execution_count": 13,
     "metadata": {},
     "output_type": "execute_result"
    }
   ],
   "source": [
    "# get all the rows belonging to those 5 customer names: hint, you may need the collect method - how many rows are they?\n",
    "top_cus_collected=top_cus.collect()[0:5]\n",
    "top_5_customers=[row[0] for row in top_cus_collected]\n",
    "df.filter(df['Customer Name'].isin(top_5_customers)).count()\n"
   ]
  },
  {
   "cell_type": "code",
   "execution_count": 15,
   "id": "8d0fc034",
   "metadata": {},
   "outputs": [],
   "source": [
    "# create a new column which is the value of the sale were there not discount applied. Hint: orginal = sales/(1-d)\n",
    "sales_wo_discount = df.withColumn(\"SaleWithoutDiscount\", col(\"Sales\") / (1 - col(\"Discount\")))"
   ]
  },
  {
   "cell_type": "code",
   "execution_count": 16,
   "id": "5f9d09ac",
   "metadata": {},
   "outputs": [
    {
     "name": "stdout",
     "output_type": "stream",
     "text": [
      "+--------+--------+-------------------+\n",
      "|   Sales|Discount|SaleWithoutDiscount|\n",
      "+--------+--------+-------------------+\n",
      "|    79.2|       0|               79.2|\n",
      "|  388.92|       0|             388.92|\n",
      "|   35.19|       0|              35.19|\n",
      "|   50.94|       0|              50.94|\n",
      "|  307.44|       0|             307.44|\n",
      "|   122.4|       0|              122.4|\n",
      "|  413.82|       0|             413.82|\n",
      "|  428.22|       0|             428.22|\n",
      "| 3979.29|       0|            3979.29|\n",
      "|   43.56|       0|              43.56|\n",
      "|   25.26|       0|              25.26|\n",
      "|2443.905|     0.1| 2715.4500000000003|\n",
      "|   12.21|       0|              12.21|\n",
      "|2167.296|    0.15| 2549.7599999999998|\n",
      "| 138.105|     0.1|             153.45|\n",
      "| 128.385|     0.1| 142.64999999999998|\n",
      "|  690.12|       0|             690.12|\n",
      "|    8.16|       0|               8.16|\n",
      "|  347.88|       0|             347.88|\n",
      "| 575.505|     0.1|  639.4499999999999|\n",
      "+--------+--------+-------------------+\n",
      "only showing top 20 rows\n",
      "\n"
     ]
    }
   ],
   "source": [
    "sales_wo_discount.select(\"Sales\",\"Discount\",\"SaleWithoutDiscount\").show()"
   ]
  },
  {
   "cell_type": "code",
   "execution_count": 19,
   "id": "ba0f9aa9",
   "metadata": {},
   "outputs": [],
   "source": [
    "# calculate the difference between sales and discount value\n",
    "from pyspark.sql.functions import col,round\n",
    "df = df.withColumn(\"Difference\", round(col(\"Sales\") - (col(\"Sales\")-col(\"Discount\")*col(\"Sales\")),2))"
   ]
  },
  {
   "cell_type": "code",
   "execution_count": 20,
   "id": "5eb90267",
   "metadata": {},
   "outputs": [
    {
     "name": "stdout",
     "output_type": "stream",
     "text": [
      "+--------+--------+----------+\n",
      "|   Sales|Discount|Difference|\n",
      "+--------+--------+----------+\n",
      "|    79.2|       0|       0.0|\n",
      "|  388.92|       0|       0.0|\n",
      "|   35.19|       0|       0.0|\n",
      "|   50.94|       0|       0.0|\n",
      "|  307.44|       0|       0.0|\n",
      "|   122.4|       0|       0.0|\n",
      "|  413.82|       0|       0.0|\n",
      "|  428.22|       0|       0.0|\n",
      "| 3979.29|       0|       0.0|\n",
      "|   43.56|       0|       0.0|\n",
      "|   25.26|       0|       0.0|\n",
      "|2443.905|     0.1|    244.39|\n",
      "|   12.21|       0|       0.0|\n",
      "|2167.296|    0.15|    325.09|\n",
      "| 138.105|     0.1|     13.81|\n",
      "| 128.385|     0.1|     12.84|\n",
      "|  690.12|       0|       0.0|\n",
      "|    8.16|       0|       0.0|\n",
      "|  347.88|       0|       0.0|\n",
      "| 575.505|     0.1|     57.55|\n",
      "+--------+--------+----------+\n",
      "only showing top 20 rows\n",
      "\n"
     ]
    }
   ],
   "source": [
    "df.select(\"Sales\",\"Discount\",\"Difference\").show()"
   ]
  },
  {
   "cell_type": "code",
   "execution_count": 24,
   "id": "8e810f4f",
   "metadata": {},
   "outputs": [
    {
     "name": "stdout",
     "output_type": "stream",
     "text": [
      "Total missed sales due to discounts: 2649532.9683750146\n",
      "+--------+--------------------+\n",
      "|Discount|TotalDiscountedSales|\n",
      "+--------+--------------------+\n",
      "|     0.3|  1841.1687000000002|\n",
      "|     0.7|  2560.2254999999996|\n",
      "|       0|                 0.0|\n",
      "|     0.2|   8522.496000000001|\n",
      "|    0.15|   38448.20002499998|\n",
      "|    0.35|  18956.014349999998|\n",
      "|     0.8|            127.1328|\n",
      "|    0.45|  1145.8928250000001|\n",
      "|     0.5|   91867.13250000023|\n",
      "|    0.65|         4276.879425|\n",
      "|     0.6|  15857.618399999994|\n",
      "|     0.1|   76241.20410000002|\n",
      "|    0.85|            677.3157|\n",
      "|     0.4|  28034.812799999996|\n",
      "+--------+--------------------+\n",
      "\n"
     ]
    }
   ],
   "source": [
    "# how much money did we not gain due to the discounts - per discount bracket?\n",
    "from pyspark.sql.functions import sum\n",
    "\n",
    "discounted_sales = df.withColumn(\"DiscountedSales\", col(\"Sales\") * col(\"Discount\"))\n",
    "total_discounted_sales = discounted_sales.groupBy(\"Discount\").agg(sum(\"DiscountedSales\").alias(\"TotalDiscountedSales\"))\n",
    "total_sales = df.agg(sum(\"Sales\").alias(\"TotalSales\"))\n",
    "missed_sales = total_sales.first()[0] - total_discounted_sales.groupBy().sum(\"TotalDiscountedSales\").first()[0]\n",
    "\n",
    "print(f\"Total missed sales due to discounts:\", missed_sales)\n",
    "total_discounted_sales.show()\n"
   ]
  },
  {
   "cell_type": "code",
   "execution_count": 30,
   "id": "76aca9f2",
   "metadata": {},
   "outputs": [
    {
     "name": "stdout",
     "output_type": "stream",
     "text": [
      "+--------+--------------------+\n",
      "|Discount|TotalDiscountedSales|\n",
      "+--------+--------------------+\n",
      "|     0.5|   91867.13250000023|\n",
      "+--------+--------------------+\n",
      "only showing top 1 row\n",
      "\n"
     ]
    }
   ],
   "source": [
    "# find the discount bracket which made us not gain the most (dynamically)\n",
    "total_discounted_sales.orderBy(\"TotalDiscountedSales\",ascending=False).show(1)\n"
   ]
  },
  {
   "cell_type": "code",
   "execution_count": 36,
   "id": "0aa9b685",
   "metadata": {},
   "outputs": [],
   "source": [
    "# what would have been the total profit if we removed all orders from that discount group? \n",
    "from pyspark.sql.functions import when\n",
    "total_profit_wo_dis_group = df.filter(col(\"Discount\") != 0.5) \\\n",
    "                 .agg(sum(col(\"Sales\")).alias(\"TotalProfit\")) \\\n",
    "                 .first()[\"TotalProfit\"]"
   ]
  },
  {
   "cell_type": "code",
   "execution_count": 37,
   "id": "8a56d67b",
   "metadata": {},
   "outputs": [
    {
     "data": {
      "text/plain": [
       "2754354.796500009"
      ]
     },
     "execution_count": 37,
     "metadata": {},
     "output_type": "execute_result"
    }
   ],
   "source": [
    "total_profit_wo_dis_group"
   ]
  },
  {
   "cell_type": "code",
   "execution_count": 40,
   "id": "fca95e60",
   "metadata": {},
   "outputs": [
    {
     "data": {
      "text/plain": [
       "372829.7415000005"
      ]
     },
     "execution_count": 40,
     "metadata": {},
     "output_type": "execute_result"
    }
   ],
   "source": [
    "#how much more (or less) profit is that?\n",
    "total_profit = df.agg(sum(\"Profit\")).collect()[0][0]\n",
    "total_profit"
   ]
  },
  {
   "cell_type": "code",
   "execution_count": 22,
   "id": "0fb49200",
   "metadata": {},
   "outputs": [
    {
     "name": "stdout",
     "output_type": "stream",
     "text": [
      "+------+---------------+----------+----------+--------------+-----------+--------------+---------+-------------+-------+--------------+------+---------------+---------------+------------+--------------------+-------+--------+--------+-------+----------+\n",
      "|Row ID|       Order ID|Order Date| Ship Date|     Ship Mode|Customer ID| Customer Name|  Segment|         City|  State|       Country|Region|     Product ID|       Category|Sub-Category|        Product Name|  Sales|Quantity|Discount| Profit|Difference|\n",
      "+------+---------------+----------+----------+--------------+-----------+--------------+---------+-------------+-------+--------------+------+---------------+---------------+------------+--------------------+-------+--------+--------+-------+----------+\n",
      "|     1|ES-2017-1311038|07/02/2017|11/02/2017|Standard Class|   AS-10045|Aaron Smayling|Corporate|        Leeds|England|United Kingdom| North|OFF-ST-10000988|Office Supplies|     Storage|Fellowes Folders,...|   79.2|       3|       0|   39.6|       0.0|\n",
      "|     2|ES-2017-1311038|07/02/2017|11/02/2017|Standard Class|   AS-10045|Aaron Smayling|Corporate|        Leeds|England|United Kingdom| North|TEC-AC-10004144|     Technology| Accessories|SanDisk Numeric K...| 388.92|       7|       0|      0|       0.0|\n",
      "|     3|ES-2017-1311038|07/02/2017|11/02/2017|Standard Class|   AS-10045|Aaron Smayling|Corporate|        Leeds|England|United Kingdom| North|OFF-LA-10001915|Office Supplies|      Labels|Avery Legal Exhib...|  35.19|       3|       0|  16.11|       0.0|\n",
      "|     4|ES-2017-1311038|07/02/2017|11/02/2017|Standard Class|   AS-10045|Aaron Smayling|Corporate|        Leeds|England|United Kingdom| North|OFF-ST-10004550|Office Supplies|     Storage|Fellowes Folders,...|  50.94|       2|       0|   13.2|       0.0|\n",
      "|     5|ES-2017-1311038|07/02/2017|11/02/2017|Standard Class|   AS-10045|Aaron Smayling|Corporate|        Leeds|England|United Kingdom| North|TEC-AC-10004068|     Technology| Accessories|Memorex Memory Ca...| 307.44|       3|       0|  73.71|       0.0|\n",
      "|     6|ES-2017-1311038|07/02/2017|11/02/2017|Standard Class|   AS-10045|Aaron Smayling|Corporate|        Leeds|England|United Kingdom| North|OFF-ST-10002271|Office Supplies|     Storage|Rogers Shelving, ...|  122.4|       2|       0|  37.92|       0.0|\n",
      "|     7|ES-2017-1311038|07/02/2017|11/02/2017|Standard Class|   AS-10045|Aaron Smayling|Corporate|        Leeds|England|United Kingdom| North|TEC-PH-10003963|     Technology|      Phones|Apple Signal Boos...| 413.82|       3|       0|  20.61|       0.0|\n",
      "|     8|ES-2015-5113958|02/08/2015|07/08/2015|  Second Class|   EB-13840| Ellis Ballard|Corporate|West Bromwich|England|United Kingdom| North|TEC-CO-10004325|     Technology|     Copiers|Canon Personal Co...| 428.22|       3|       0| 192.69|       0.0|\n",
      "|     9|ES-2015-5113958|02/08/2015|07/08/2015|  Second Class|   EB-13840| Ellis Ballard|Corporate|West Bromwich|England|United Kingdom| North|OFF-AP-10004512|Office Supplies|  Appliances|   Hoover Stove, Red|3979.29|       7|       0|1989.54|       0.0|\n",
      "|    10|ES-2015-5113958|02/08/2015|07/08/2015|  Second Class|   EB-13840| Ellis Ballard|Corporate|West Bromwich|England|United Kingdom| North|OFF-FA-10002393|Office Supplies|   Fasteners|Accos Push Pins, ...|  43.56|       3|       0|   12.6|       0.0|\n",
      "+------+---------------+----------+----------+--------------+-----------+--------------+---------+-------------+-------+--------------+------+---------------+---------------+------------+--------------------+-------+--------+--------+-------+----------+\n",
      "\n"
     ]
    }
   ],
   "source": [
    "df.createOrReplaceTempView(\"superstore\")\n",
    "result_sql_table = spark.sql(\"SELECT * FROM superstore LIMIT 10\")\n",
    "result_sql_table.show()"
   ]
  },
  {
   "cell_type": "code",
   "execution_count": 23,
   "id": "a23e0bca",
   "metadata": {},
   "outputs": [
    {
     "name": "stdout",
     "output_type": "stream",
     "text": [
      "+--------+\n",
      "|count(1)|\n",
      "+--------+\n",
      "|   10000|\n",
      "+--------+\n",
      "\n"
     ]
    }
   ],
   "source": [
    "# use an SQL query to count the number of rows\n",
    "spark.sql(\"SELECT COUNT(*) FROM superstore\").show()"
   ]
  },
  {
   "cell_type": "code",
   "execution_count": 27,
   "id": "8e2cf9f2",
   "metadata": {},
   "outputs": [
    {
     "name": "stdout",
     "output_type": "stream",
     "text": [
      "+--------------+------------+\n",
      "|       country|profit_ratio|\n",
      "+--------------+------------+\n",
      "|        Sweden|       -0.57|\n",
      "|       Germany|        0.17|\n",
      "|        France|        0.13|\n",
      "|       Belgium|        0.24|\n",
      "|       Finland|        0.19|\n",
      "|         Italy|        0.07|\n",
      "|        Norway|        0.25|\n",
      "|         Spain|        0.19|\n",
      "|       Denmark|        -0.5|\n",
      "|       Ireland|       -0.44|\n",
      "|   Switzerland|        0.29|\n",
      "|      Portugal|       -0.58|\n",
      "|       Austria|        0.26|\n",
      "|United Kingdom|        0.21|\n",
      "|   Netherlands|       -0.53|\n",
      "+--------------+------------+\n",
      "\n"
     ]
    }
   ],
   "source": [
    "# Use an SQL query to calculate the profit ratio for each country: hint, ratio is sum(profit)/sum(sales)\n",
    "profit_ratio_per_country = spark.sql(\"\"\"\n",
    "    SELECT country, round(SUM(Profit) / SUM(Sales),2) AS profit_ratio\n",
    "    FROM superstore\n",
    "    GROUP BY country\n",
    "\"\"\")\n",
    "profit_ratio_per_country.show()"
   ]
  },
  {
   "cell_type": "code",
   "execution_count": 33,
   "id": "f8cdd772",
   "metadata": {},
   "outputs": [
    {
     "name": "stdout",
     "output_type": "stream",
     "text": [
      "+-----------+------------+\n",
      "|    country|profit_ratio|\n",
      "+-----------+------------+\n",
      "|Switzerland|        0.29|\n",
      "+-----------+------------+\n",
      "only showing top 1 row\n",
      "\n"
     ]
    }
   ],
   "source": [
    "# is the country with the largest profit ratio, the country with the largest profit?\n",
    "profit_ratio_per_country.orderBy(\"profit_ratio\",ascending=False).show(1)"
   ]
  },
  {
   "cell_type": "code",
   "execution_count": 31,
   "id": "4c7397b1",
   "metadata": {},
   "outputs": [
    {
     "name": "stdout",
     "output_type": "stream",
     "text": [
      "+--------------+------------------+\n",
      "|       country|      total_profit|\n",
      "+--------------+------------------+\n",
      "|United Kingdom|111900.15000000001|\n",
      "+--------------+------------------+\n",
      "\n"
     ]
    }
   ],
   "source": [
    "largest_profit_ratio=spark.sql(\"\"\"\n",
    "    SELECT country, SUM(profit) AS total_profit\n",
    "    FROM superstore\n",
    "    GROUP BY country\n",
    "    ORDER BY total_profit DESC\n",
    "    LIMIT 1\n",
    "\"\"\")\n",
    "largest_profit_ratio.show()"
   ]
  },
  {
   "attachments": {},
   "cell_type": "markdown",
   "id": "de0f8738",
   "metadata": {},
   "source": [
    "# Sweden has the largest profit ratio while United Kingdom have the largest total profit earned"
   ]
  },
  {
   "cell_type": "code",
   "execution_count": null,
   "id": "f750c887",
   "metadata": {},
   "outputs": [],
   "source": []
  }
 ],
 "metadata": {
  "kernelspec": {
   "display_name": "base",
   "language": "python",
   "name": "python3"
  },
  "language_info": {
   "codemirror_mode": {
    "name": "ipython",
    "version": 3
   },
   "file_extension": ".py",
   "mimetype": "text/x-python",
   "name": "python",
   "nbconvert_exporter": "python",
   "pygments_lexer": "ipython3",
   "version": "3.9.12"
  },
  "vscode": {
   "interpreter": {
    "hash": "9eed6231a799ec7cc549e32b30dd8c88ef2d6c51e433558f37e3dbfe2a065ac5"
   }
  }
 },
 "nbformat": 4,
 "nbformat_minor": 5
}
